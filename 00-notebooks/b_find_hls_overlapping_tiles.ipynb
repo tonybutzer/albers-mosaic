{
 "cells": [
  {
   "cell_type": "markdown",
   "id": "dominant-subsection",
   "metadata": {},
   "source": [
    "# Find 2 overlapping tiles and convert them "
   ]
  },
  {
   "cell_type": "code",
   "execution_count": 1,
   "id": "municipal-stevens",
   "metadata": {},
   "outputs": [],
   "source": [
    "#unpickle the geodataframe"
   ]
  },
  {
   "cell_type": "code",
   "execution_count": 2,
   "id": "caring-collection",
   "metadata": {},
   "outputs": [
    {
     "data": {
      "text/html": [
       "<div>\n",
       "<style scoped>\n",
       "    .dataframe tbody tr th:only-of-type {\n",
       "        vertical-align: middle;\n",
       "    }\n",
       "\n",
       "    .dataframe tbody tr th {\n",
       "        vertical-align: top;\n",
       "    }\n",
       "\n",
       "    .dataframe thead th {\n",
       "        text-align: right;\n",
       "    }\n",
       "</style>\n",
       "<table border=\"1\" class=\"dataframe\">\n",
       "  <thead>\n",
       "    <tr style=\"text-align: right;\">\n",
       "      <th></th>\n",
       "      <th>Name</th>\n",
       "      <th>Description</th>\n",
       "      <th>geometry</th>\n",
       "    </tr>\n",
       "  </thead>\n",
       "  <tbody>\n",
       "    <tr>\n",
       "      <th>16984</th>\n",
       "      <td>18TYR</td>\n",
       "      <td>TILE PROPERTIES&lt;br&gt;&lt;table border=0 cellpadding...</td>\n",
       "      <td>GEOMETRYCOLLECTION Z (POLYGON Z ((-72.41645 46...</td>\n",
       "    </tr>\n",
       "    <tr>\n",
       "      <th>17893</th>\n",
       "      <td>19TCL</td>\n",
       "      <td>TILE PROPERTIES&lt;br&gt;&lt;table border=0 cellpadding...</td>\n",
       "      <td>GEOMETRYCOLLECTION Z (POLYGON Z ((-71.58407 46...</td>\n",
       "    </tr>\n",
       "  </tbody>\n",
       "</table>\n",
       "</div>"
      ],
      "text/plain": [
       "        Name                                        Description  \\\n",
       "16984  18TYR  TILE PROPERTIES<br><table border=0 cellpadding...   \n",
       "17893  19TCL  TILE PROPERTIES<br><table border=0 cellpadding...   \n",
       "\n",
       "                                                geometry  \n",
       "16984  GEOMETRYCOLLECTION Z (POLYGON Z ((-72.41645 46...  \n",
       "17893  GEOMETRYCOLLECTION Z (POLYGON Z ((-71.58407 46...  "
      ]
     },
     "execution_count": 2,
     "metadata": {},
     "output_type": "execute_result"
    }
   ],
   "source": [
    "import pickle\n",
    "gdf = pickle.load( open( \"overlapping_tiles.pickle\", \"rb\" ) )\n",
    "gdf"
   ]
  },
  {
   "cell_type": "markdown",
   "id": "blessed-nerve",
   "metadata": {},
   "source": [
    "# Search HLS1.5 for images"
   ]
  },
  {
   "cell_type": "code",
   "execution_count": 3,
   "id": "bizarre-renaissance",
   "metadata": {},
   "outputs": [],
   "source": [
    "import os\n",
    "\n",
    "import requests as r"
   ]
  },
  {
   "cell_type": "markdown",
   "id": "supported-blame",
   "metadata": {},
   "source": [
    "# Authentication stuff I borrowed from others - Logan, Cole ..."
   ]
  },
  {
   "cell_type": "code",
   "execution_count": 4,
   "id": "great-legend",
   "metadata": {},
   "outputs": [],
   "source": [
    "# AUTHENTICATION CONFIGURATION\n",
    "from netrc import netrc\n",
    "from subprocess import Popen\n",
    "from getpass import getpass\n",
    "\n",
    "urs = 'urs.earthdata.nasa.gov'    # Earthdata URL to call for authentication\n",
    "prompts = ['Enter NASA Earthdata Login Username \\n(or create an account at urs.earthdata.nasa.gov): ',\n",
    "           'Enter NASA Earthdata Login Password: ']\n",
    "\n",
    "# Determine if netrc file exists, and if so, if it includes NASA Earthdata Login Credentials\n",
    "try:\n",
    "    netrcDir = os.path.expanduser(\"~/.netrc\")\n",
    "    netrc(netrcDir).authenticators(urs)[0]\n",
    "    del netrcDir\n",
    "\n",
    "# Below, create a netrc file and prompt user for NASA Earthdata Login Username and Password\n",
    "except FileNotFoundError:\n",
    "    homeDir = os.path.expanduser(\"~\")\n",
    "    Popen('touch {0}.netrc | chmod og-rw {0}.netrc | echo machine {1} >> {0}.netrc'.format(homeDir + os.sep, urs), shell=True)\n",
    "    Popen('echo login {} >> {}.netrc'.format(getpass(prompt=prompts[0]), homeDir + os.sep), shell=True)\n",
    "    Popen('echo password {} >> {}.netrc'.format(getpass(prompt=prompts[1]), homeDir + os.sep), shell=True)\n",
    "    del homeDir\n",
    "\n",
    "# Determine OS and edit netrc file if it exists but is not set up for NASA Earthdata Login\n",
    "except TypeError:\n",
    "    homeDir = os.path.expanduser(\"~\")\n",
    "    Popen('echo machine {1} >> {0}.netrc'.format(homeDir + os.sep, urs), shell=True)\n",
    "    Popen('echo login {} >> {}.netrc'.format(getpass(prompt=prompts[0]), homeDir + os.sep), shell=True)\n",
    "    Popen('echo password {} >> {}.netrc'.format(getpass(prompt=prompts[1]), homeDir + os.sep), shell=True)\n",
    "    del homeDir\n",
    "del urs, prompts"
   ]
  },
  {
   "cell_type": "markdown",
   "id": "drawn-rabbit",
   "metadata": {},
   "source": [
    "# practice a random search 100 items"
   ]
  },
  {
   "cell_type": "code",
   "execution_count": 5,
   "id": "functioning-victoria",
   "metadata": {},
   "outputs": [],
   "source": [
    "stac = 'https://cmr.earthdata.nasa.gov/stac/' # CMR-STAC API Endpoint\n",
    "stac_response = r.get(stac).json()            # Call the STAC API endpoint\n",
    "stac_lp = [s for s in stac_response['links'] if 'LP' in s['title']]  \n",
    "lp_cloud = r.get([s for s in stac_lp if s['title'] == 'LPCLOUD'][0]['href']).json()\n",
    "lp_links = lp_cloud['links']"
   ]
  },
  {
   "cell_type": "code",
   "execution_count": 6,
   "id": "foreign-dressing",
   "metadata": {},
   "outputs": [
    {
     "name": "stdout",
     "output_type": "stream",
     "text": [
      "100 items found!\n"
     ]
    }
   ],
   "source": [
    "lp_search = [l['href'] for l in lp_links if l['rel'] == 'search'][0]  # Define the search endpoint\n",
    "search_response = r.get(f\"{lp_search}\").json()                        # Send GET request to retrieve items\n",
    "lim = 100\n",
    "search_query = f\"{lp_search}?&limit={lim}\"    # Add in a limit parameter to retrieve 100 items at a time.\n",
    "search_response = r.get(search_query).json()  # send GET request to retrieve first 100 items in the STAC collection\n",
    "\n",
    "print(f\"{len(search_response['features'])} items found!\")"
   ]
  },
  {
   "cell_type": "code",
   "execution_count": 7,
   "id": "primary-fruit",
   "metadata": {},
   "outputs": [
    {
     "data": {
      "text/plain": [
       "list"
      ]
     },
     "execution_count": 7,
     "metadata": {},
     "output_type": "execute_result"
    }
   ],
   "source": [
    "my_hls = search_response['features']\n",
    "\n",
    "type(my_hls)"
   ]
  },
  {
   "cell_type": "markdown",
   "id": "opening-killer",
   "metadata": {},
   "source": [
    "# look at metadata item zero"
   ]
  },
  {
   "cell_type": "code",
   "execution_count": 8,
   "id": "preceding-microphone",
   "metadata": {},
   "outputs": [
    {
     "data": {
      "text/plain": [
       "{'type': 'Feature',\n",
       " 'id': 'G1969487860-LPCLOUD',\n",
       " 'stac_version': '1.0.0-beta.1',\n",
       " 'stac_extensions': ['eo'],\n",
       " 'collection': 'C1711924822-LPCLOUD',\n",
       " 'geometry': {'type': 'Polygon',\n",
       "  'coordinates': [[[-119.1488671, 33.3327671],\n",
       "    [-118.9832795, 33.3355226],\n",
       "    [-118.6783731, 34.3301598],\n",
       "    [-119.1737801, 34.3223655],\n",
       "    [-119.1488671, 33.3327671]]]},\n",
       " 'bbox': [-119.17378, 33.332767, -118.678373, 34.33016],\n",
       " 'links': [{'rel': 'self',\n",
       "   'href': 'https://cmr.earthdata.nasa.gov/stac/LPCLOUD/collections/C1711924822-LPCLOUD/items/G1969487860-LPCLOUD'},\n",
       "  {'rel': 'parent',\n",
       "   'href': 'https://cmr.earthdata.nasa.gov/stac/LPCLOUD/collections/C1711924822-LPCLOUD'},\n",
       "  {'rel': 'collection',\n",
       "   'href': 'https://cmr.earthdata.nasa.gov/stac/LPCLOUD/collections/C1711924822-LPCLOUD'},\n",
       "  {'rel': 'root', 'href': 'https://cmr.earthdata.nasa.gov/stac/'},\n",
       "  {'rel': 'provider', 'href': 'https://cmr.earthdata.nasa.gov/stac/LPCLOUD'},\n",
       "  {'rel': 'via',\n",
       "   'href': 'https://cmr.earthdata.nasa.gov/search/concepts/G1969487860-LPCLOUD.json'},\n",
       "  {'rel': 'via',\n",
       "   'href': 'https://cmr.earthdata.nasa.gov/search/concepts/G1969487860-LPCLOUD.umm_json'}],\n",
       " 'properties': {'datetime': '2015-08-26T18:54:35.450Z',\n",
       "  'start_datetime': '2015-08-26T18:54:35.450Z',\n",
       "  'end_datetime': '2015-08-26T18:54:35.450Z',\n",
       "  'eo:cloud_cover': 6},\n",
       " 'assets': {'VZA': {'name': 'Download HLS.S30.T11SLT.2015238T185436.v1.5.VZA.tif',\n",
       "   'href': 'https://lpdaac.earthdata.nasa.gov/lp-prod-protected/HLSS30.015/HLS.S30.T11SLT.2015238T185436.v1.5.VZA.tif'},\n",
       "  'VAA': {'name': 'Download HLS.S30.T11SLT.2015238T185436.v1.5.VAA.tif',\n",
       "   'href': 'https://lpdaac.earthdata.nasa.gov/lp-prod-protected/HLSS30.015/HLS.S30.T11SLT.2015238T185436.v1.5.VAA.tif'},\n",
       "  'SAA': {'name': 'Download HLS.S30.T11SLT.2015238T185436.v1.5.SAA.tif',\n",
       "   'href': 'https://lpdaac.earthdata.nasa.gov/lp-prod-protected/HLSS30.015/HLS.S30.T11SLT.2015238T185436.v1.5.SAA.tif'},\n",
       "  'B11': {'name': 'Download HLS.S30.T11SLT.2015238T185436.v1.5.B11.tif',\n",
       "   'href': 'https://lpdaac.earthdata.nasa.gov/lp-prod-protected/HLSS30.015/HLS.S30.T11SLT.2015238T185436.v1.5.B11.tif'},\n",
       "  'B02': {'name': 'Download HLS.S30.T11SLT.2015238T185436.v1.5.B02.tif',\n",
       "   'href': 'https://lpdaac.earthdata.nasa.gov/lp-prod-protected/HLSS30.015/HLS.S30.T11SLT.2015238T185436.v1.5.B02.tif'},\n",
       "  'B09': {'name': 'Download HLS.S30.T11SLT.2015238T185436.v1.5.B09.tif',\n",
       "   'href': 'https://lpdaac.earthdata.nasa.gov/lp-prod-protected/HLSS30.015/HLS.S30.T11SLT.2015238T185436.v1.5.B09.tif'},\n",
       "  'B12': {'name': 'Download HLS.S30.T11SLT.2015238T185436.v1.5.B12.tif',\n",
       "   'href': 'https://lpdaac.earthdata.nasa.gov/lp-prod-protected/HLSS30.015/HLS.S30.T11SLT.2015238T185436.v1.5.B12.tif'},\n",
       "  'B03': {'name': 'Download HLS.S30.T11SLT.2015238T185436.v1.5.B03.tif',\n",
       "   'href': 'https://lpdaac.earthdata.nasa.gov/lp-prod-protected/HLSS30.015/HLS.S30.T11SLT.2015238T185436.v1.5.B03.tif'},\n",
       "  'B01': {'name': 'Download HLS.S30.T11SLT.2015238T185436.v1.5.B01.tif',\n",
       "   'href': 'https://lpdaac.earthdata.nasa.gov/lp-prod-protected/HLSS30.015/HLS.S30.T11SLT.2015238T185436.v1.5.B01.tif'},\n",
       "  'B07': {'name': 'Download HLS.S30.T11SLT.2015238T185436.v1.5.B07.tif',\n",
       "   'href': 'https://lpdaac.earthdata.nasa.gov/lp-prod-protected/HLSS30.015/HLS.S30.T11SLT.2015238T185436.v1.5.B07.tif'},\n",
       "  'SZA': {'name': 'Download HLS.S30.T11SLT.2015238T185436.v1.5.SZA.tif',\n",
       "   'href': 'https://lpdaac.earthdata.nasa.gov/lp-prod-protected/HLSS30.015/HLS.S30.T11SLT.2015238T185436.v1.5.SZA.tif'},\n",
       "  'B05': {'name': 'Download HLS.S30.T11SLT.2015238T185436.v1.5.B05.tif',\n",
       "   'href': 'https://lpdaac.earthdata.nasa.gov/lp-prod-protected/HLSS30.015/HLS.S30.T11SLT.2015238T185436.v1.5.B05.tif'},\n",
       "  'B06': {'name': 'Download HLS.S30.T11SLT.2015238T185436.v1.5.B06.tif',\n",
       "   'href': 'https://lpdaac.earthdata.nasa.gov/lp-prod-protected/HLSS30.015/HLS.S30.T11SLT.2015238T185436.v1.5.B06.tif'},\n",
       "  'Fmask': {'name': 'Download HLS.S30.T11SLT.2015238T185436.v1.5.Fmask.tif',\n",
       "   'href': 'https://lpdaac.earthdata.nasa.gov/lp-prod-protected/HLSS30.015/HLS.S30.T11SLT.2015238T185436.v1.5.Fmask.tif'},\n",
       "  'B10': {'name': 'Download HLS.S30.T11SLT.2015238T185436.v1.5.B10.tif',\n",
       "   'href': 'https://lpdaac.earthdata.nasa.gov/lp-prod-protected/HLSS30.015/HLS.S30.T11SLT.2015238T185436.v1.5.B10.tif'},\n",
       "  'B08': {'name': 'Download HLS.S30.T11SLT.2015238T185436.v1.5.B08.tif',\n",
       "   'href': 'https://lpdaac.earthdata.nasa.gov/lp-prod-protected/HLSS30.015/HLS.S30.T11SLT.2015238T185436.v1.5.B08.tif'},\n",
       "  'B8A': {'name': 'Download HLS.S30.T11SLT.2015238T185436.v1.5.B8A.tif',\n",
       "   'href': 'https://lpdaac.earthdata.nasa.gov/lp-prod-protected/HLSS30.015/HLS.S30.T11SLT.2015238T185436.v1.5.B8A.tif'},\n",
       "  'B04': {'name': 'Download HLS.S30.T11SLT.2015238T185436.v1.5.B04.tif',\n",
       "   'href': 'https://lpdaac.earthdata.nasa.gov/lp-prod-protected/HLSS30.015/HLS.S30.T11SLT.2015238T185436.v1.5.B04.tif'},\n",
       "  'browse': {'name': 'Download HLS.S30.T11SLT.2015238T185436.v1.5.jpg',\n",
       "   'href': 'https://lpdaac.earthdata.nasa.gov/lp-prod-public/HLSS30.015/HLS.S30.T11SLT.2015238T185436.v1.5.jpg',\n",
       "   'type': 'image/jpeg'},\n",
       "  'metadata': {'href': 'https://cmr.earthdata.nasa.gov/search/concepts/G1969487860-LPCLOUD.xml',\n",
       "   'type': 'application/xml'}}}"
      ]
     },
     "execution_count": 8,
     "metadata": {},
     "output_type": "execute_result"
    }
   ],
   "source": [
    "my_hls[0]"
   ]
  },
  {
   "cell_type": "markdown",
   "id": "forty-czech",
   "metadata": {},
   "source": [
    "# Display the browse item zero\n",
    "\n"
   ]
  },
  {
   "cell_type": "code",
   "execution_count": 9,
   "id": "sound-partnership",
   "metadata": {},
   "outputs": [
    {
     "data": {
      "text/plain": [
       "{'name': 'Download HLS.S30.T11SLT.2015238T185436.v1.5.jpg',\n",
       " 'href': 'https://lpdaac.earthdata.nasa.gov/lp-prod-public/HLSS30.015/HLS.S30.T11SLT.2015238T185436.v1.5.jpg',\n",
       " 'type': 'image/jpeg'}"
      ]
     },
     "execution_count": 9,
     "metadata": {},
     "output_type": "execute_result"
    }
   ],
   "source": [
    "my_hls[0]['assets']['browse']"
   ]
  },
  {
   "cell_type": "code",
   "execution_count": 10,
   "id": "legal-walker",
   "metadata": {},
   "outputs": [
    {
     "data": {
      "text/plain": [
       "'https://lpdaac.earthdata.nasa.gov/lp-prod-public/HLSS30.015/HLS.S30.T11SLT.2015238T185436.v1.5.jpg'"
      ]
     },
     "execution_count": 10,
     "metadata": {},
     "output_type": "execute_result"
    }
   ],
   "source": [
    "browse_jpg = my_hls[0]['assets']['browse']['href']\n",
    "browse_jpg"
   ]
  },
  {
   "cell_type": "code",
   "execution_count": 11,
   "id": "german-programming",
   "metadata": {},
   "outputs": [
    {
     "data": {
      "text/html": [
       "<img src=\"https://lpdaac.earthdata.nasa.gov/lp-prod-public/HLSS30.015/HLS.S30.T11SLT.2015238T185436.v1.5.jpg\"/>"
      ],
      "text/plain": [
       "<IPython.core.display.Image object>"
      ]
     },
     "execution_count": 11,
     "metadata": {},
     "output_type": "execute_result"
    }
   ],
   "source": [
    "from IPython.display import Image\n",
    "Image(url=browse_jpg) "
   ]
  },
  {
   "cell_type": "markdown",
   "id": "subtle-refrigerator",
   "metadata": {},
   "source": [
    "# ok get a tile now from october "
   ]
  },
  {
   "cell_type": "code",
   "execution_count": 12,
   "id": "changing-costa",
   "metadata": {},
   "outputs": [
    {
     "data": {
      "text/html": [
       "<div>\n",
       "<style scoped>\n",
       "    .dataframe tbody tr th:only-of-type {\n",
       "        vertical-align: middle;\n",
       "    }\n",
       "\n",
       "    .dataframe tbody tr th {\n",
       "        vertical-align: top;\n",
       "    }\n",
       "\n",
       "    .dataframe thead th {\n",
       "        text-align: right;\n",
       "    }\n",
       "</style>\n",
       "<table border=\"1\" class=\"dataframe\">\n",
       "  <thead>\n",
       "    <tr style=\"text-align: right;\">\n",
       "      <th></th>\n",
       "      <th>Name</th>\n",
       "      <th>Description</th>\n",
       "      <th>geometry</th>\n",
       "    </tr>\n",
       "  </thead>\n",
       "  <tbody>\n",
       "    <tr>\n",
       "      <th>16984</th>\n",
       "      <td>18TYR</td>\n",
       "      <td>TILE PROPERTIES&lt;br&gt;&lt;table border=0 cellpadding...</td>\n",
       "      <td>GEOMETRYCOLLECTION Z (POLYGON Z ((-72.41645 46...</td>\n",
       "    </tr>\n",
       "    <tr>\n",
       "      <th>17893</th>\n",
       "      <td>19TCL</td>\n",
       "      <td>TILE PROPERTIES&lt;br&gt;&lt;table border=0 cellpadding...</td>\n",
       "      <td>GEOMETRYCOLLECTION Z (POLYGON Z ((-71.58407 46...</td>\n",
       "    </tr>\n",
       "  </tbody>\n",
       "</table>\n",
       "</div>"
      ],
      "text/plain": [
       "        Name                                        Description  \\\n",
       "16984  18TYR  TILE PROPERTIES<br><table border=0 cellpadding...   \n",
       "17893  19TCL  TILE PROPERTIES<br><table border=0 cellpadding...   \n",
       "\n",
       "                                                geometry  \n",
       "16984  GEOMETRYCOLLECTION Z (POLYGON Z ((-72.41645 46...  \n",
       "17893  GEOMETRYCOLLECTION Z (POLYGON Z ((-71.58407 46...  "
      ]
     },
     "execution_count": 12,
     "metadata": {},
     "output_type": "execute_result"
    }
   ],
   "source": [
    "gdf"
   ]
  },
  {
   "cell_type": "code",
   "execution_count": 13,
   "id": "computational-dance",
   "metadata": {},
   "outputs": [],
   "source": [
    "gdf.reset_index(inplace=True, drop=True)"
   ]
  },
  {
   "cell_type": "code",
   "execution_count": 14,
   "id": "coastal-differential",
   "metadata": {},
   "outputs": [
    {
     "data": {
      "text/html": [
       "<div>\n",
       "<style scoped>\n",
       "    .dataframe tbody tr th:only-of-type {\n",
       "        vertical-align: middle;\n",
       "    }\n",
       "\n",
       "    .dataframe tbody tr th {\n",
       "        vertical-align: top;\n",
       "    }\n",
       "\n",
       "    .dataframe thead th {\n",
       "        text-align: right;\n",
       "    }\n",
       "</style>\n",
       "<table border=\"1\" class=\"dataframe\">\n",
       "  <thead>\n",
       "    <tr style=\"text-align: right;\">\n",
       "      <th></th>\n",
       "      <th>Name</th>\n",
       "      <th>Description</th>\n",
       "      <th>geometry</th>\n",
       "    </tr>\n",
       "  </thead>\n",
       "  <tbody>\n",
       "    <tr>\n",
       "      <th>0</th>\n",
       "      <td>18TYR</td>\n",
       "      <td>TILE PROPERTIES&lt;br&gt;&lt;table border=0 cellpadding...</td>\n",
       "      <td>GEOMETRYCOLLECTION Z (POLYGON Z ((-72.41645 46...</td>\n",
       "    </tr>\n",
       "    <tr>\n",
       "      <th>1</th>\n",
       "      <td>19TCL</td>\n",
       "      <td>TILE PROPERTIES&lt;br&gt;&lt;table border=0 cellpadding...</td>\n",
       "      <td>GEOMETRYCOLLECTION Z (POLYGON Z ((-71.58407 46...</td>\n",
       "    </tr>\n",
       "  </tbody>\n",
       "</table>\n",
       "</div>"
      ],
      "text/plain": [
       "    Name                                        Description  \\\n",
       "0  18TYR  TILE PROPERTIES<br><table border=0 cellpadding...   \n",
       "1  19TCL  TILE PROPERTIES<br><table border=0 cellpadding...   \n",
       "\n",
       "                                            geometry  \n",
       "0  GEOMETRYCOLLECTION Z (POLYGON Z ((-72.41645 46...  \n",
       "1  GEOMETRYCOLLECTION Z (POLYGON Z ((-71.58407 46...  "
      ]
     },
     "execution_count": 14,
     "metadata": {},
     "output_type": "execute_result"
    }
   ],
   "source": [
    "gdf"
   ]
  },
  {
   "cell_type": "code",
   "execution_count": 15,
   "id": "brave-presence",
   "metadata": {},
   "outputs": [
    {
     "data": {
      "image/svg+xml": [
       "<svg xmlns=\"http://www.w3.org/2000/svg\" xmlns:xlink=\"http://www.w3.org/1999/xlink\" width=\"100.0\" height=\"100.0\" viewBox=\"-72.51971768435601 44.939163063844 1.5774627921120157 1.1436265592120023\" preserveAspectRatio=\"xMinYMin meet\"><g transform=\"matrix(1,0,0,-1,0,91.0219526869)\"><g><path fill-rule=\"evenodd\" fill=\"#66cc99\" stroke=\"#555555\" stroke-width=\"0.03154925584224031\" opacity=\"0.6\" d=\"M -72.4164511604,46.0243650752 L -71.0006794401,45.9835452061 L -71.069966609,44.9975876117 L -72.4612931365,45.0370344026 L -72.4164511604,46.0243650752 z\" /><circle cx=\"-71.7309862883\" cy=\"45.5109763434\" r=\"0.04732388376336047\" stroke=\"#555555\" stroke-width=\"0.015774627921120155\" fill=\"#66cc99\" opacity=\"0.6\" /></g></g></svg>"
      ],
      "text/plain": [
       "<shapely.geometry.collection.GeometryCollection at 0x7f33cb74c810>"
      ]
     },
     "execution_count": 15,
     "metadata": {},
     "output_type": "execute_result"
    }
   ],
   "source": [
    "gdf['geometry'][0]"
   ]
  },
  {
   "cell_type": "markdown",
   "id": "signal-familiar",
   "metadata": {},
   "source": [
    "# test search by bounds"
   ]
  },
  {
   "cell_type": "code",
   "execution_count": 16,
   "id": "serial-vancouver",
   "metadata": {},
   "outputs": [
    {
     "data": {
      "text/plain": [
       "(-72.4612931365, 44.9975876117, -71.0006794401, 46.0243650752)"
      ]
     },
     "execution_count": 16,
     "metadata": {},
     "output_type": "execute_result"
    }
   ],
   "source": [
    "gdf['geometry'][0].bounds"
   ]
  },
  {
   "cell_type": "code",
   "execution_count": 17,
   "id": "devoted-crossing",
   "metadata": {},
   "outputs": [],
   "source": [
    "bounds = gdf['geometry'][0].bounds"
   ]
  },
  {
   "cell_type": "code",
   "execution_count": 18,
   "id": "governing-engineer",
   "metadata": {},
   "outputs": [],
   "source": [
    "bbox = f'{bounds[0]},{bounds[1]},{bounds[2]},{bounds[3]}'  # Defined from ROI bounds"
   ]
  },
  {
   "cell_type": "code",
   "execution_count": 19,
   "id": "previous-fetish",
   "metadata": {},
   "outputs": [
    {
     "name": "stdout",
     "output_type": "stream",
     "text": [
      "100 items found!\n"
     ]
    }
   ],
   "source": [
    "search_query2 = f\"{search_query}&bbox={bbox}\"  # Add bbox to query\n",
    "search_response = r.get(search_query2).json()                                                          # Send request\n",
    "print(f\"{len(search_response['features'])} items found!\")"
   ]
  },
  {
   "cell_type": "markdown",
   "id": "macro-license",
   "metadata": {},
   "source": [
    "# Refine by date october 2020 - less cloudy perhaps?"
   ]
  },
  {
   "cell_type": "code",
   "execution_count": 20,
   "id": "inclusive-deposit",
   "metadata": {},
   "outputs": [
    {
     "name": "stdout",
     "output_type": "stream",
     "text": [
      "56 items found!\n"
     ]
    }
   ],
   "source": [
    "date_time = \"2020-10-01T00:00:00Z/2020-10-31T23:31:12Z\"  # Define start time period / end time period\n",
    "search_query3 = f\"{search_query2}&datetime={date_time}\"  # Add to query that already includes bounding_box\n",
    "search_response = r.get(search_query3).json()            \n",
    "print(f\"{len(search_response['features'])} items found!\")"
   ]
  },
  {
   "cell_type": "code",
   "execution_count": 21,
   "id": "working-tourist",
   "metadata": {},
   "outputs": [],
   "source": [
    "#search_response"
   ]
  },
  {
   "cell_type": "code",
   "execution_count": 22,
   "id": "executed-reward",
   "metadata": {},
   "outputs": [
    {
     "data": {
      "text/plain": [
       "'18TYR'"
      ]
     },
     "execution_count": 22,
     "metadata": {},
     "output_type": "execute_result"
    }
   ],
   "source": [
    "my_fav_tile = gdf['Name'][0]\n",
    "my_fav_tile"
   ]
  },
  {
   "cell_type": "code",
   "execution_count": 23,
   "id": "desirable-labor",
   "metadata": {},
   "outputs": [
    {
     "name": "stdout",
     "output_type": "stream",
     "text": [
      "https://lpdaac.earthdata.nasa.gov/lp-prod-public/HLSS30.015/HLS.S30.T18TYR.2020278T154121.v1.5.jpg\n",
      "https://lpdaac.earthdata.nasa.gov/lp-prod-public/HLSS30.015/HLS.S30.T18TYR.2020283T154059.v1.5.jpg\n",
      "https://lpdaac.earthdata.nasa.gov/lp-prod-public/HLSS30.015/HLS.S30.T18TYR.2020286T155119.v1.5.jpg\n",
      "https://lpdaac.earthdata.nasa.gov/lp-prod-public/HLSS30.015/HLS.S30.T18TYR.2020288T154231.v1.5.jpg\n",
      "https://lpdaac.earthdata.nasa.gov/lp-prod-public/HLSS30.015/HLS.S30.T18TYR.2020291T155251.v1.5.jpg\n",
      "https://lpdaac.earthdata.nasa.gov/lp-prod-public/HLSS30.015/HLS.S30.T18TYR.2020298T154331.v1.5.jpg\n",
      "https://lpdaac.earthdata.nasa.gov/lp-prod-public/HLSS30.015/HLS.S30.T18TYR.2020301T155341.v1.5.jpg\n"
     ]
    }
   ],
   "source": [
    "browse_list=[]\n",
    "for item in search_response['features']:\n",
    "    browse_url = item['assets']['browse']['href']\n",
    "    if my_fav_tile in browse_url:\n",
    "        print (browse_url)\n",
    "        browse_list.append(browse_url)"
   ]
  },
  {
   "cell_type": "code",
   "execution_count": 24,
   "id": "nonprofit-afghanistan",
   "metadata": {
    "scrolled": false
   },
   "outputs": [
    {
     "data": {
      "text/html": [
       "<img src=\"https://lpdaac.earthdata.nasa.gov/lp-prod-public/HLSS30.015/HLS.S30.T18TYR.2020278T154121.v1.5.jpg\"/>"
      ],
      "text/plain": [
       "<IPython.core.display.Image object>"
      ]
     },
     "metadata": {},
     "output_type": "display_data"
    },
    {
     "data": {
      "text/html": [
       "<img src=\"https://lpdaac.earthdata.nasa.gov/lp-prod-public/HLSS30.015/HLS.S30.T18TYR.2020283T154059.v1.5.jpg\"/>"
      ],
      "text/plain": [
       "<IPython.core.display.Image object>"
      ]
     },
     "metadata": {},
     "output_type": "display_data"
    },
    {
     "data": {
      "text/html": [
       "<img src=\"https://lpdaac.earthdata.nasa.gov/lp-prod-public/HLSS30.015/HLS.S30.T18TYR.2020286T155119.v1.5.jpg\"/>"
      ],
      "text/plain": [
       "<IPython.core.display.Image object>"
      ]
     },
     "metadata": {},
     "output_type": "display_data"
    },
    {
     "data": {
      "text/html": [
       "<img src=\"https://lpdaac.earthdata.nasa.gov/lp-prod-public/HLSS30.015/HLS.S30.T18TYR.2020288T154231.v1.5.jpg\"/>"
      ],
      "text/plain": [
       "<IPython.core.display.Image object>"
      ]
     },
     "metadata": {},
     "output_type": "display_data"
    },
    {
     "data": {
      "text/html": [
       "<img src=\"https://lpdaac.earthdata.nasa.gov/lp-prod-public/HLSS30.015/HLS.S30.T18TYR.2020291T155251.v1.5.jpg\"/>"
      ],
      "text/plain": [
       "<IPython.core.display.Image object>"
      ]
     },
     "metadata": {},
     "output_type": "display_data"
    },
    {
     "data": {
      "text/html": [
       "<img src=\"https://lpdaac.earthdata.nasa.gov/lp-prod-public/HLSS30.015/HLS.S30.T18TYR.2020298T154331.v1.5.jpg\"/>"
      ],
      "text/plain": [
       "<IPython.core.display.Image object>"
      ]
     },
     "metadata": {},
     "output_type": "display_data"
    },
    {
     "data": {
      "text/html": [
       "<img src=\"https://lpdaac.earthdata.nasa.gov/lp-prod-public/HLSS30.015/HLS.S30.T18TYR.2020301T155341.v1.5.jpg\"/>"
      ],
      "text/plain": [
       "<IPython.core.display.Image object>"
      ]
     },
     "metadata": {},
     "output_type": "display_data"
    }
   ],
   "source": [
    "for jpg in browse_list:\n",
    "    display(Image(url=jpg))"
   ]
  },
  {
   "cell_type": "markdown",
   "id": "greatest-stuart",
   "metadata": {},
   "source": [
    "# cool metadata is here \n",
    "https://cmr.earthdata.nasa.gov/search/concepts/G1969487860-LPCLOUD.umm_json"
   ]
  },
  {
   "cell_type": "code",
   "execution_count": 25,
   "id": "official-indicator",
   "metadata": {},
   "outputs": [
    {
     "name": "stdout",
     "output_type": "stream",
     "text": [
      "--2021-02-28 17:35:07--  https://cmr.earthdata.nasa.gov/search/concepts/G1969487860-LPCLOUD.umm_json\n",
      "Resolving cmr.earthdata.nasa.gov (cmr.earthdata.nasa.gov)... 54.230.126.42, 54.230.126.93, 54.230.126.52, ...\n",
      "Connecting to cmr.earthdata.nasa.gov (cmr.earthdata.nasa.gov)|54.230.126.42|:443... connected.\n",
      "HTTP request sent, awaiting response... 200 OK\n",
      "Length: 7840 (7.7K) [application/vnd.nasa.cmr.umm+json]\n",
      "Saving to: ‘G1969487860-LPCLOUD.umm_json.4’\n",
      "\n",
      "G1969487860-LPCLOUD 100%[===================>]   7.66K  --.-KB/s    in 0s      \n",
      "\n",
      "2021-02-28 17:35:07 (828 MB/s) - ‘G1969487860-LPCLOUD.umm_json.4’ saved [7840/7840]\n",
      "\n"
     ]
    }
   ],
   "source": [
    "! wget https://cmr.earthdata.nasa.gov/search/concepts/G1969487860-LPCLOUD.umm_json"
   ]
  },
  {
   "cell_type": "code",
   "execution_count": 26,
   "id": "quality-shadow",
   "metadata": {},
   "outputs": [],
   "source": [
    "import json\n",
    "filename='G1969487860-LPCLOUD.umm_json'\n",
    "\n",
    "import json\n",
    "\n",
    "with open(filename) as f:\n",
    "    my_meta = json.load(f)"
   ]
  },
  {
   "cell_type": "code",
   "execution_count": 27,
   "id": "dynamic-ukraine",
   "metadata": {},
   "outputs": [
    {
     "data": {
      "text/plain": [
       "{'RelatedUrls': [{'URL': 'https://lpdaac.earthdata.nasa.gov/lp-prod-protected/HLSS30.015/HLS.S30.T11SLT.2015238T185436.v1.5.VZA.tif',\n",
       "   'Type': 'GET DATA',\n",
       "   'Description': 'Download HLS.S30.T11SLT.2015238T185436.v1.5.VZA.tif'},\n",
       "  {'URL': 'https://lpdaac.earthdata.nasa.gov/lp-prod-protected/HLSS30.015/HLS.S30.T11SLT.2015238T185436.v1.5.VAA.tif',\n",
       "   'Type': 'GET DATA',\n",
       "   'Description': 'Download HLS.S30.T11SLT.2015238T185436.v1.5.VAA.tif'},\n",
       "  {'URL': 'https://lpdaac.earthdata.nasa.gov/lp-prod-protected/HLSS30.015/HLS.S30.T11SLT.2015238T185436.v1.5.SAA.tif',\n",
       "   'Type': 'GET DATA',\n",
       "   'Description': 'Download HLS.S30.T11SLT.2015238T185436.v1.5.SAA.tif'},\n",
       "  {'URL': 'https://lpdaac.earthdata.nasa.gov/lp-prod-protected/HLSS30.015/HLS.S30.T11SLT.2015238T185436.v1.5.B11.tif',\n",
       "   'Type': 'GET DATA',\n",
       "   'Description': 'Download HLS.S30.T11SLT.2015238T185436.v1.5.B11.tif'},\n",
       "  {'URL': 'https://lpdaac.earthdata.nasa.gov/lp-prod-protected/HLSS30.015/HLS.S30.T11SLT.2015238T185436.v1.5.B02.tif',\n",
       "   'Type': 'GET DATA',\n",
       "   'Description': 'Download HLS.S30.T11SLT.2015238T185436.v1.5.B02.tif'},\n",
       "  {'URL': 'https://lpdaac.earthdata.nasa.gov/lp-prod-protected/HLSS30.015/HLS.S30.T11SLT.2015238T185436.v1.5.B09.tif',\n",
       "   'Type': 'GET DATA',\n",
       "   'Description': 'Download HLS.S30.T11SLT.2015238T185436.v1.5.B09.tif'},\n",
       "  {'URL': 'https://lpdaac.earthdata.nasa.gov/lp-prod-protected/HLSS30.015/HLS.S30.T11SLT.2015238T185436.v1.5.B12.tif',\n",
       "   'Type': 'GET DATA',\n",
       "   'Description': 'Download HLS.S30.T11SLT.2015238T185436.v1.5.B12.tif'},\n",
       "  {'URL': 'https://lpdaac.earthdata.nasa.gov/lp-prod-protected/HLSS30.015/HLS.S30.T11SLT.2015238T185436.v1.5.B03.tif',\n",
       "   'Type': 'GET DATA',\n",
       "   'Description': 'Download HLS.S30.T11SLT.2015238T185436.v1.5.B03.tif'},\n",
       "  {'URL': 'https://lpdaac.earthdata.nasa.gov/lp-prod-protected/HLSS30.015/HLS.S30.T11SLT.2015238T185436.v1.5.B01.tif',\n",
       "   'Type': 'GET DATA',\n",
       "   'Description': 'Download HLS.S30.T11SLT.2015238T185436.v1.5.B01.tif'},\n",
       "  {'URL': 'https://lpdaac.earthdata.nasa.gov/lp-prod-protected/HLSS30.015/HLS.S30.T11SLT.2015238T185436.v1.5.B07.tif',\n",
       "   'Type': 'GET DATA',\n",
       "   'Description': 'Download HLS.S30.T11SLT.2015238T185436.v1.5.B07.tif'},\n",
       "  {'URL': 'https://lpdaac.earthdata.nasa.gov/lp-prod-protected/HLSS30.015/HLS.S30.T11SLT.2015238T185436.v1.5.SZA.tif',\n",
       "   'Type': 'GET DATA',\n",
       "   'Description': 'Download HLS.S30.T11SLT.2015238T185436.v1.5.SZA.tif'},\n",
       "  {'URL': 'https://lpdaac.earthdata.nasa.gov/lp-prod-protected/HLSS30.015/HLS.S30.T11SLT.2015238T185436.v1.5.B05.tif',\n",
       "   'Type': 'GET DATA',\n",
       "   'Description': 'Download HLS.S30.T11SLT.2015238T185436.v1.5.B05.tif'},\n",
       "  {'URL': 'https://lpdaac.earthdata.nasa.gov/lp-prod-protected/HLSS30.015/HLS.S30.T11SLT.2015238T185436.v1.5.B06.tif',\n",
       "   'Type': 'GET DATA',\n",
       "   'Description': 'Download HLS.S30.T11SLT.2015238T185436.v1.5.B06.tif'},\n",
       "  {'URL': 'https://lpdaac.earthdata.nasa.gov/lp-prod-protected/HLSS30.015/HLS.S30.T11SLT.2015238T185436.v1.5.Fmask.tif',\n",
       "   'Type': 'GET DATA',\n",
       "   'Description': 'Download HLS.S30.T11SLT.2015238T185436.v1.5.Fmask.tif'},\n",
       "  {'URL': 'https://lpdaac.earthdata.nasa.gov/lp-prod-protected/HLSS30.015/HLS.S30.T11SLT.2015238T185436.v1.5.B10.tif',\n",
       "   'Type': 'GET DATA',\n",
       "   'Description': 'Download HLS.S30.T11SLT.2015238T185436.v1.5.B10.tif'},\n",
       "  {'URL': 'https://lpdaac.earthdata.nasa.gov/lp-prod-protected/HLSS30.015/HLS.S30.T11SLT.2015238T185436.v1.5.B08.tif',\n",
       "   'Type': 'GET DATA',\n",
       "   'Description': 'Download HLS.S30.T11SLT.2015238T185436.v1.5.B08.tif'},\n",
       "  {'URL': 'https://lpdaac.earthdata.nasa.gov/lp-prod-protected/HLSS30.015/HLS.S30.T11SLT.2015238T185436.v1.5.B8A.tif',\n",
       "   'Type': 'GET DATA',\n",
       "   'Description': 'Download HLS.S30.T11SLT.2015238T185436.v1.5.B8A.tif'},\n",
       "  {'URL': 'https://lpdaac.earthdata.nasa.gov/lp-prod-protected/HLSS30.015/HLS.S30.T11SLT.2015238T185436.v1.5.B04.tif',\n",
       "   'Type': 'GET DATA',\n",
       "   'Description': 'Download HLS.S30.T11SLT.2015238T185436.v1.5.B04.tif'},\n",
       "  {'URL': 'https://lpdaac.earthdata.nasa.gov/lp-prod-protected/HLSS30.015/HLS.S30.T11SLT.2015238T185436.v1.5.cmr.xml',\n",
       "   'Type': 'VIEW RELATED INFORMATION',\n",
       "   'Description': 'Download HLS.S30.T11SLT.2015238T185436.v1.5.cmr.xml'},\n",
       "  {'URL': 'https://lpdaac.earthdata.nasa.gov/s3credentials',\n",
       "   'Type': 'VIEW RELATED INFORMATION',\n",
       "   'Description': 'api endpoint to retrieve temporary credentials valid for same-region direct s3 access'},\n",
       "  {'URL': 'https://lpdaac.earthdata.nasa.gov/lp-prod-public/HLSS30.015/HLS.S30.T11SLT.2015238T185436.v1.5.jpg',\n",
       "   'Type': 'GET RELATED VISUALIZATION',\n",
       "   'Description': 'Download HLS.S30.T11SLT.2015238T185436.v1.5.jpg'}],\n",
       " 'SpatialExtent': {'HorizontalSpatialDomain': {'Geometry': {'GPolygons': [{'Boundary': {'Points': [{'Longitude': -119.14886714,\n",
       "         'Latitude': 33.33276711},\n",
       "        {'Longitude': -118.98327946, 'Latitude': 33.3355226},\n",
       "        {'Longitude': -118.67837314, 'Latitude': 34.33015977},\n",
       "        {'Longitude': -119.17378006, 'Latitude': 34.32236553},\n",
       "        {'Longitude': -119.14886714, 'Latitude': 33.33276711}]}}]}}},\n",
       " 'ProviderDates': [{'Date': '2020-11-21T16:11:45.070Z', 'Type': 'Insert'},\n",
       "  {'Date': '2020-11-21T16:11:45.070Z', 'Type': 'Update'}],\n",
       " 'AdditionalAttributes': [{'Name': 'PRODUCT_URI',\n",
       "   'Values': ['S2A_MSIL1C_20150826T185436_N0204_R070_T11SLT_20150826T185435.SAFE']},\n",
       "  {'Name': 'CLOUD_COVERAGE', 'Values': ['6']},\n",
       "  {'Name': 'MGRS_TILE_ID', 'Values': ['11SLT']},\n",
       "  {'Name': 'SPATIAL_COVERAGE', 'Values': ['27']},\n",
       "  {'Name': 'SPATIAL_RESOLUTION', 'Values': ['30']},\n",
       "  {'Name': 'HLS_PROCESSING_TIME', 'Values': ['2020-11-21T16:11:05Z']},\n",
       "  {'Name': 'SENSING_TIME', 'Values': ['2015-08-26T18:54:35.457Z']},\n",
       "  {'Name': 'HORIZONTAL_CS_CODE', 'Values': ['EPSG:32611']},\n",
       "  {'Name': 'HORIZONTAL_CS_NAME', 'Values': ['WGS84 / UTM zone 11N']},\n",
       "  {'Name': 'ULX', 'Values': ['300000.0']},\n",
       "  {'Name': 'ULY', 'Values': ['3800040.0']},\n",
       "  {'Name': 'SPATIAL_RESAMPLING_ALG', 'Values': ['Area Weighted Average']},\n",
       "  {'Name': 'ADD_OFFSET', 'Values': ['0']},\n",
       "  {'Name': 'REF_SCALE_FACTOR', 'Values': ['0.0001']},\n",
       "  {'Name': 'FILLVALUE', 'Values': ['-9999']},\n",
       "  {'Name': 'QA_FILLVALUE', 'Values': ['255']},\n",
       "  {'Name': 'NCOLS', 'Values': ['3660']},\n",
       "  {'Name': 'NROWS', 'Values': ['3660']},\n",
       "  {'Name': 'MEAN_SUN_AZIMUTH_ANGLE', 'Values': ['144.97613682']},\n",
       "  {'Name': 'MEAN_SUN_ZENITH_ANGLE', 'Values': ['27.61230194']},\n",
       "  {'Name': 'MEAN_VIEW_AZIMUTH_ANGLE', 'Values': ['289.18682394']},\n",
       "  {'Name': 'MEAN_VIEW_ZENITH_ANGLE', 'Values': ['10.60261615']},\n",
       "  {'Name': 'NBAR_SOLAR_ZENITH', 'Values': ['29.66299426']},\n",
       "  {'Name': 'MSI_BAND_01_BANDPASS_ADJUSTMENT_SLOPE_AND_OFFSET',\n",
       "   'Values': ['0.9959', '-0.0002']},\n",
       "  {'Name': 'MSI_BAND_02_BANDPASS_ADJUSTMENT_SLOPE_AND_OFFSET',\n",
       "   'Values': ['0.9778', '-0.004']},\n",
       "  {'Name': 'MSI_BAND_03_BANDPASS_ADJUSTMENT_SLOPE_AND_OFFSET',\n",
       "   'Values': ['1.0053', '-0.0009']},\n",
       "  {'Name': 'MSI_BAND_04_BANDPASS_ADJUSTMENT_SLOPE_AND_OFFSET',\n",
       "   'Values': ['0.9765', '0.0009']},\n",
       "  {'Name': 'MSI_BAND_11_BANDPASS_ADJUSTMENT_SLOPE_AND_OFFSET',\n",
       "   'Values': ['0.9987', '-0.0011']},\n",
       "  {'Name': 'MSI_BAND_12_BANDPASS_ADJUSTMENT_SLOPE_AND_OFFSET',\n",
       "   'Values': ['1.003', '-0.0012']},\n",
       "  {'Name': 'MSI_BAND_8A_BANDPASS_ADJUSTMENT_SLOPE_AND_OFFSET',\n",
       "   'Values': ['0.9983', '-0.0001']},\n",
       "  {'Name': 'AROP_AVE_XSHIFT(METERS)', 'Values': ['0.0']},\n",
       "  {'Name': 'AROP_AVE_YSHIFT(METERS)', 'Values': ['0.0']},\n",
       "  {'Name': 'AROP_NCP', 'Values': ['0']},\n",
       "  {'Name': 'AROP_RMSE(METERS)', 'Values': ['0.0']},\n",
       "  {'Name': 'AROP_S2_REFIMG', 'Values': ['NONE']},\n",
       "  {'Name': 'ACCODE', 'Values': ['LaSRC']},\n",
       "  {'Name': 'PROCESSING_BASELINE', 'Values': ['02.04']},\n",
       "  {'Name': 'IDENTIFIER_PRODUCT_DOI', 'Values': ['10.5067/HLS/HLSS30.015']},\n",
       "  {'Name': 'IDENTIFIER_PRODUCT_DOI_AUTHORITY', 'Values': ['https://doi.org']}],\n",
       " 'CollectionReference': {'EntryTitle': 'HLS Sentinel-2 Multi-spectral Instrument Surface Reflectance Daily Global 30 m V1.5'},\n",
       " 'DataGranule': {'DayNightFlag': 'Day',\n",
       "  'Identifiers': [{'Identifier': 'HLS.S30.T11SLT.2015238T185436',\n",
       "    'IdentifierType': 'ProducerGranuleId'}],\n",
       "  'ProductionDateTime': '2020-11-21T16:11:05.000Z',\n",
       "  'ArchiveAndDistributionInformation': [{'Name': 'Not provided',\n",
       "    'Size': 61805.0,\n",
       "    'SizeUnit': 'MB'}]},\n",
       " 'Platforms': [{'ShortName': 'Sentinel-2A',\n",
       "   'Instruments': [{'ShortName': 'Sentinel-2 MSI'}]}],\n",
       " 'TemporalExtent': {'RangeDateTime': {'BeginningDateTime': '2015-08-26T18:54:35.450Z',\n",
       "   'EndingDateTime': '2015-08-26T18:54:35.450Z'}},\n",
       " 'GranuleUR': 'HLS.S30.T11SLT.2015238T185436.v1.5',\n",
       " 'MetadataSpecification': {'URL': 'https://cdn.earthdata.nasa.gov/umm/granule/v1.6.1',\n",
       "  'Name': 'UMM-G',\n",
       "  'Version': '1.6.1'}}"
      ]
     },
     "execution_count": 27,
     "metadata": {},
     "output_type": "execute_result"
    }
   ],
   "source": [
    "my_meta"
   ]
  },
  {
   "cell_type": "code",
   "execution_count": 28,
   "id": "packed-stress",
   "metadata": {},
   "outputs": [],
   "source": [
    "#search_response"
   ]
  },
  {
   "cell_type": "code",
   "execution_count": 29,
   "id": "emerging-layout",
   "metadata": {},
   "outputs": [],
   "source": [
    "import pandas as pd\n",
    "df = pd.DataFrame(my_meta['AdditionalAttributes'])"
   ]
  },
  {
   "cell_type": "code",
   "execution_count": 30,
   "id": "pharmaceutical-aberdeen",
   "metadata": {},
   "outputs": [
    {
     "data": {
      "text/html": [
       "<div>\n",
       "<style scoped>\n",
       "    .dataframe tbody tr th:only-of-type {\n",
       "        vertical-align: middle;\n",
       "    }\n",
       "\n",
       "    .dataframe tbody tr th {\n",
       "        vertical-align: top;\n",
       "    }\n",
       "\n",
       "    .dataframe thead th {\n",
       "        text-align: right;\n",
       "    }\n",
       "</style>\n",
       "<table border=\"1\" class=\"dataframe\">\n",
       "  <thead>\n",
       "    <tr style=\"text-align: right;\">\n",
       "      <th></th>\n",
       "      <th>Name</th>\n",
       "      <th>Values</th>\n",
       "    </tr>\n",
       "  </thead>\n",
       "  <tbody>\n",
       "    <tr>\n",
       "      <th>0</th>\n",
       "      <td>PRODUCT_URI</td>\n",
       "      <td>[S2A_MSIL1C_20150826T185436_N0204_R070_T11SLT_...</td>\n",
       "    </tr>\n",
       "    <tr>\n",
       "      <th>1</th>\n",
       "      <td>CLOUD_COVERAGE</td>\n",
       "      <td>[6]</td>\n",
       "    </tr>\n",
       "    <tr>\n",
       "      <th>2</th>\n",
       "      <td>MGRS_TILE_ID</td>\n",
       "      <td>[11SLT]</td>\n",
       "    </tr>\n",
       "    <tr>\n",
       "      <th>3</th>\n",
       "      <td>SPATIAL_COVERAGE</td>\n",
       "      <td>[27]</td>\n",
       "    </tr>\n",
       "    <tr>\n",
       "      <th>4</th>\n",
       "      <td>SPATIAL_RESOLUTION</td>\n",
       "      <td>[30]</td>\n",
       "    </tr>\n",
       "    <tr>\n",
       "      <th>5</th>\n",
       "      <td>HLS_PROCESSING_TIME</td>\n",
       "      <td>[2020-11-21T16:11:05Z]</td>\n",
       "    </tr>\n",
       "    <tr>\n",
       "      <th>6</th>\n",
       "      <td>SENSING_TIME</td>\n",
       "      <td>[2015-08-26T18:54:35.457Z]</td>\n",
       "    </tr>\n",
       "    <tr>\n",
       "      <th>7</th>\n",
       "      <td>HORIZONTAL_CS_CODE</td>\n",
       "      <td>[EPSG:32611]</td>\n",
       "    </tr>\n",
       "    <tr>\n",
       "      <th>8</th>\n",
       "      <td>HORIZONTAL_CS_NAME</td>\n",
       "      <td>[WGS84 / UTM zone 11N]</td>\n",
       "    </tr>\n",
       "    <tr>\n",
       "      <th>9</th>\n",
       "      <td>ULX</td>\n",
       "      <td>[300000.0]</td>\n",
       "    </tr>\n",
       "    <tr>\n",
       "      <th>10</th>\n",
       "      <td>ULY</td>\n",
       "      <td>[3800040.0]</td>\n",
       "    </tr>\n",
       "    <tr>\n",
       "      <th>11</th>\n",
       "      <td>SPATIAL_RESAMPLING_ALG</td>\n",
       "      <td>[Area Weighted Average]</td>\n",
       "    </tr>\n",
       "    <tr>\n",
       "      <th>12</th>\n",
       "      <td>ADD_OFFSET</td>\n",
       "      <td>[0]</td>\n",
       "    </tr>\n",
       "    <tr>\n",
       "      <th>13</th>\n",
       "      <td>REF_SCALE_FACTOR</td>\n",
       "      <td>[0.0001]</td>\n",
       "    </tr>\n",
       "    <tr>\n",
       "      <th>14</th>\n",
       "      <td>FILLVALUE</td>\n",
       "      <td>[-9999]</td>\n",
       "    </tr>\n",
       "    <tr>\n",
       "      <th>15</th>\n",
       "      <td>QA_FILLVALUE</td>\n",
       "      <td>[255]</td>\n",
       "    </tr>\n",
       "    <tr>\n",
       "      <th>16</th>\n",
       "      <td>NCOLS</td>\n",
       "      <td>[3660]</td>\n",
       "    </tr>\n",
       "    <tr>\n",
       "      <th>17</th>\n",
       "      <td>NROWS</td>\n",
       "      <td>[3660]</td>\n",
       "    </tr>\n",
       "    <tr>\n",
       "      <th>18</th>\n",
       "      <td>MEAN_SUN_AZIMUTH_ANGLE</td>\n",
       "      <td>[144.97613682]</td>\n",
       "    </tr>\n",
       "    <tr>\n",
       "      <th>19</th>\n",
       "      <td>MEAN_SUN_ZENITH_ANGLE</td>\n",
       "      <td>[27.61230194]</td>\n",
       "    </tr>\n",
       "    <tr>\n",
       "      <th>20</th>\n",
       "      <td>MEAN_VIEW_AZIMUTH_ANGLE</td>\n",
       "      <td>[289.18682394]</td>\n",
       "    </tr>\n",
       "    <tr>\n",
       "      <th>21</th>\n",
       "      <td>MEAN_VIEW_ZENITH_ANGLE</td>\n",
       "      <td>[10.60261615]</td>\n",
       "    </tr>\n",
       "    <tr>\n",
       "      <th>22</th>\n",
       "      <td>NBAR_SOLAR_ZENITH</td>\n",
       "      <td>[29.66299426]</td>\n",
       "    </tr>\n",
       "    <tr>\n",
       "      <th>23</th>\n",
       "      <td>MSI_BAND_01_BANDPASS_ADJUSTMENT_SLOPE_AND_OFFSET</td>\n",
       "      <td>[0.9959, -0.0002]</td>\n",
       "    </tr>\n",
       "    <tr>\n",
       "      <th>24</th>\n",
       "      <td>MSI_BAND_02_BANDPASS_ADJUSTMENT_SLOPE_AND_OFFSET</td>\n",
       "      <td>[0.9778, -0.004]</td>\n",
       "    </tr>\n",
       "    <tr>\n",
       "      <th>25</th>\n",
       "      <td>MSI_BAND_03_BANDPASS_ADJUSTMENT_SLOPE_AND_OFFSET</td>\n",
       "      <td>[1.0053, -0.0009]</td>\n",
       "    </tr>\n",
       "    <tr>\n",
       "      <th>26</th>\n",
       "      <td>MSI_BAND_04_BANDPASS_ADJUSTMENT_SLOPE_AND_OFFSET</td>\n",
       "      <td>[0.9765, 0.0009]</td>\n",
       "    </tr>\n",
       "    <tr>\n",
       "      <th>27</th>\n",
       "      <td>MSI_BAND_11_BANDPASS_ADJUSTMENT_SLOPE_AND_OFFSET</td>\n",
       "      <td>[0.9987, -0.0011]</td>\n",
       "    </tr>\n",
       "    <tr>\n",
       "      <th>28</th>\n",
       "      <td>MSI_BAND_12_BANDPASS_ADJUSTMENT_SLOPE_AND_OFFSET</td>\n",
       "      <td>[1.003, -0.0012]</td>\n",
       "    </tr>\n",
       "    <tr>\n",
       "      <th>29</th>\n",
       "      <td>MSI_BAND_8A_BANDPASS_ADJUSTMENT_SLOPE_AND_OFFSET</td>\n",
       "      <td>[0.9983, -0.0001]</td>\n",
       "    </tr>\n",
       "    <tr>\n",
       "      <th>30</th>\n",
       "      <td>AROP_AVE_XSHIFT(METERS)</td>\n",
       "      <td>[0.0]</td>\n",
       "    </tr>\n",
       "    <tr>\n",
       "      <th>31</th>\n",
       "      <td>AROP_AVE_YSHIFT(METERS)</td>\n",
       "      <td>[0.0]</td>\n",
       "    </tr>\n",
       "    <tr>\n",
       "      <th>32</th>\n",
       "      <td>AROP_NCP</td>\n",
       "      <td>[0]</td>\n",
       "    </tr>\n",
       "    <tr>\n",
       "      <th>33</th>\n",
       "      <td>AROP_RMSE(METERS)</td>\n",
       "      <td>[0.0]</td>\n",
       "    </tr>\n",
       "    <tr>\n",
       "      <th>34</th>\n",
       "      <td>AROP_S2_REFIMG</td>\n",
       "      <td>[NONE]</td>\n",
       "    </tr>\n",
       "    <tr>\n",
       "      <th>35</th>\n",
       "      <td>ACCODE</td>\n",
       "      <td>[LaSRC]</td>\n",
       "    </tr>\n",
       "    <tr>\n",
       "      <th>36</th>\n",
       "      <td>PROCESSING_BASELINE</td>\n",
       "      <td>[02.04]</td>\n",
       "    </tr>\n",
       "    <tr>\n",
       "      <th>37</th>\n",
       "      <td>IDENTIFIER_PRODUCT_DOI</td>\n",
       "      <td>[10.5067/HLS/HLSS30.015]</td>\n",
       "    </tr>\n",
       "    <tr>\n",
       "      <th>38</th>\n",
       "      <td>IDENTIFIER_PRODUCT_DOI_AUTHORITY</td>\n",
       "      <td>[https://doi.org]</td>\n",
       "    </tr>\n",
       "  </tbody>\n",
       "</table>\n",
       "</div>"
      ],
      "text/plain": [
       "                                                Name  \\\n",
       "0                                        PRODUCT_URI   \n",
       "1                                     CLOUD_COVERAGE   \n",
       "2                                       MGRS_TILE_ID   \n",
       "3                                   SPATIAL_COVERAGE   \n",
       "4                                 SPATIAL_RESOLUTION   \n",
       "5                                HLS_PROCESSING_TIME   \n",
       "6                                       SENSING_TIME   \n",
       "7                                 HORIZONTAL_CS_CODE   \n",
       "8                                 HORIZONTAL_CS_NAME   \n",
       "9                                                ULX   \n",
       "10                                               ULY   \n",
       "11                            SPATIAL_RESAMPLING_ALG   \n",
       "12                                        ADD_OFFSET   \n",
       "13                                  REF_SCALE_FACTOR   \n",
       "14                                         FILLVALUE   \n",
       "15                                      QA_FILLVALUE   \n",
       "16                                             NCOLS   \n",
       "17                                             NROWS   \n",
       "18                            MEAN_SUN_AZIMUTH_ANGLE   \n",
       "19                             MEAN_SUN_ZENITH_ANGLE   \n",
       "20                           MEAN_VIEW_AZIMUTH_ANGLE   \n",
       "21                            MEAN_VIEW_ZENITH_ANGLE   \n",
       "22                                 NBAR_SOLAR_ZENITH   \n",
       "23  MSI_BAND_01_BANDPASS_ADJUSTMENT_SLOPE_AND_OFFSET   \n",
       "24  MSI_BAND_02_BANDPASS_ADJUSTMENT_SLOPE_AND_OFFSET   \n",
       "25  MSI_BAND_03_BANDPASS_ADJUSTMENT_SLOPE_AND_OFFSET   \n",
       "26  MSI_BAND_04_BANDPASS_ADJUSTMENT_SLOPE_AND_OFFSET   \n",
       "27  MSI_BAND_11_BANDPASS_ADJUSTMENT_SLOPE_AND_OFFSET   \n",
       "28  MSI_BAND_12_BANDPASS_ADJUSTMENT_SLOPE_AND_OFFSET   \n",
       "29  MSI_BAND_8A_BANDPASS_ADJUSTMENT_SLOPE_AND_OFFSET   \n",
       "30                           AROP_AVE_XSHIFT(METERS)   \n",
       "31                           AROP_AVE_YSHIFT(METERS)   \n",
       "32                                          AROP_NCP   \n",
       "33                                 AROP_RMSE(METERS)   \n",
       "34                                    AROP_S2_REFIMG   \n",
       "35                                            ACCODE   \n",
       "36                               PROCESSING_BASELINE   \n",
       "37                            IDENTIFIER_PRODUCT_DOI   \n",
       "38                  IDENTIFIER_PRODUCT_DOI_AUTHORITY   \n",
       "\n",
       "                                               Values  \n",
       "0   [S2A_MSIL1C_20150826T185436_N0204_R070_T11SLT_...  \n",
       "1                                                 [6]  \n",
       "2                                             [11SLT]  \n",
       "3                                                [27]  \n",
       "4                                                [30]  \n",
       "5                              [2020-11-21T16:11:05Z]  \n",
       "6                          [2015-08-26T18:54:35.457Z]  \n",
       "7                                        [EPSG:32611]  \n",
       "8                              [WGS84 / UTM zone 11N]  \n",
       "9                                          [300000.0]  \n",
       "10                                        [3800040.0]  \n",
       "11                            [Area Weighted Average]  \n",
       "12                                                [0]  \n",
       "13                                           [0.0001]  \n",
       "14                                            [-9999]  \n",
       "15                                              [255]  \n",
       "16                                             [3660]  \n",
       "17                                             [3660]  \n",
       "18                                     [144.97613682]  \n",
       "19                                      [27.61230194]  \n",
       "20                                     [289.18682394]  \n",
       "21                                      [10.60261615]  \n",
       "22                                      [29.66299426]  \n",
       "23                                  [0.9959, -0.0002]  \n",
       "24                                   [0.9778, -0.004]  \n",
       "25                                  [1.0053, -0.0009]  \n",
       "26                                   [0.9765, 0.0009]  \n",
       "27                                  [0.9987, -0.0011]  \n",
       "28                                   [1.003, -0.0012]  \n",
       "29                                  [0.9983, -0.0001]  \n",
       "30                                              [0.0]  \n",
       "31                                              [0.0]  \n",
       "32                                                [0]  \n",
       "33                                              [0.0]  \n",
       "34                                             [NONE]  \n",
       "35                                            [LaSRC]  \n",
       "36                                            [02.04]  \n",
       "37                           [10.5067/HLS/HLSS30.015]  \n",
       "38                                  [https://doi.org]  "
      ]
     },
     "execution_count": 30,
     "metadata": {},
     "output_type": "execute_result"
    }
   ],
   "source": [
    "df"
   ]
  },
  {
   "cell_type": "code",
   "execution_count": null,
   "id": "discrete-worse",
   "metadata": {},
   "outputs": [],
   "source": []
  }
 ],
 "metadata": {
  "kernelspec": {
   "display_name": "Python 3",
   "language": "python",
   "name": "python3"
  },
  "language_info": {
   "codemirror_mode": {
    "name": "ipython",
    "version": 3
   },
   "file_extension": ".py",
   "mimetype": "text/x-python",
   "name": "python",
   "nbconvert_exporter": "python",
   "pygments_lexer": "ipython3",
   "version": "3.7.9"
  }
 },
 "nbformat": 4,
 "nbformat_minor": 5
}
